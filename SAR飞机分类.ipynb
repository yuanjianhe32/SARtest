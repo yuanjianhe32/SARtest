{
 "cells": [
  {
   "cell_type": "code",
   "execution_count": 14,
   "id": "37111804",
   "metadata": {},
   "outputs": [],
   "source": [
    "from __future__ import absolute_import\n",
    "import matplotlib.pyplot as plt\n",
    "import tifffile as tif\n",
    "from cv2 import cv2\n",
    "import numpy as np\n",
    "import glob\n",
    "from tensorflow import keras\n",
    "from tensorflow.keras.layers import Input, GlobalAveragePooling1D\n",
    "from tensorflow.keras.layers import Dense\n",
    "import swin_layers\n",
    "import transformer_layers\n"
   ]
  },
  {
   "cell_type": "code",
   "execution_count": 15,
   "id": "f1530b22",
   "metadata": {},
   "outputs": [],
   "source": [
    "def resize_image(img, size=(28,28)):\n",
    "    h, w = img.shape[:2]\n",
    "    c = img.shape[2] if len(img.shape)>2 else 1\n",
    "\n",
    "    if h == w:\n",
    "        return cv2.resize(img, size, cv2.INTER_AREA)\n",
    "\n",
    "    dif = h if h > w else w\n",
    "\n",
    "    interpolation = cv2.INTER_AREA if dif > (size[0]+size[1])//2 else cv2.INTER_CUBIC\n",
    "\n",
    "    x_pos = (dif - w)//2\n",
    "    y_pos = (dif - h)//2\n",
    "\n",
    "    if len(img.shape) == 2:\n",
    "        mask = np.zeros((dif, dif), dtype=img.dtype)\n",
    "        mask[y_pos:y_pos+h, x_pos:x_pos+w] = img[:h, :w]\n",
    "    else:\n",
    "        mask = np.zeros((dif, dif, c), dtype=img.dtype)\n",
    "        mask[y_pos:y_pos+h, x_pos:x_pos+w, :] = img[:h, :w, :]\n",
    "\n",
    "    return cv2.resize(mask, size, interpolation)"
   ]
  },
  {
   "cell_type": "code",
   "execution_count": 16,
   "id": "98ab83b1",
   "metadata": {},
   "outputs": [],
   "source": [
    "xtrain_list = glob.glob('G:/深度学习数据集/SAR图像/trainData/croped_train/*.jpg')\n",
    "x_train=np.array([np.array(cv2.resize(tif.imread(fname),(28,28))) for fname in xtrain_list])\n",
    "\n",
    "xtest_list = glob.glob('G:/深度学习数据集/SAR图像/trainData/croped_test/*.jpg')\n",
    "x_test=np.array([np.array(cv2.resize(tif.imread(fname),(28,28))) for fname in xtest_list])\n",
    "\n",
    "#plt.imshow(cv2.resize(tif.imread('G:/深度学习数据集/SAR图像/trainData/croped_test/3.jpg'),(28,28)))\n",
    "#plt.show()\n",
    "y_file= open('G:/深度学习数据集/SAR图像/trainData/swin_classification_train.txt')\n",
    "y_train=np.zeros((5243),dtype=np.int8)\n",
    "for i in range(0,5243):\n",
    "    y_train[i] = int(y_file.readline())\n",
    "\n",
    "y_file= open('G:/深度学习数据集/SAR图像/trainData/swin_classification_test.txt')\n",
    "y_test=np.zeros((938),dtype=np.int8)\n",
    "for i in range(0,938):\n",
    "    y_test[i] = int(y_file.readline())"
   ]
  },
  {
   "cell_type": "code",
   "execution_count": 17,
   "id": "95c78edc",
   "metadata": {},
   "outputs": [
    {
     "name": "stdout",
     "output_type": "stream",
     "text": [
      "Model: \"model_3\"\n",
      "_________________________________________________________________\n",
      " Layer (type)                Output Shape              Param #   \n",
      "=================================================================\n",
      " input_4 (InputLayer)        [(None, 28, 28, 1)]       0         \n",
      "                                                                 \n",
      " patch_extract_3 (patch_extr  (None, 196, 4)           0         \n",
      " act)                                                            \n",
      "                                                                 \n",
      " patch_embedding_3 (patch_em  (None, 196, 64)          12864     \n",
      " bedding)                                                        \n",
      "                                                                 \n",
      " swin_transformer_block_6 (S  (None, 196, 64)          50072     \n",
      " winTransformerBlock)                                            \n",
      "                                                                 \n",
      " swin_transformer_block_7 (S  (None, 196, 64)          50856     \n",
      " winTransformerBlock)                                            \n",
      "                                                                 \n",
      " patch_merging_3 (patch_merg  (None, 49, 128)          32768     \n",
      " ing)                                                            \n",
      "                                                                 \n",
      " global_average_pooling1d_3   (None, 128)              0         \n",
      " (GlobalAveragePooling1D)                                        \n",
      "                                                                 \n",
      " dense_7 (Dense)             (None, 7)                 903       \n",
      "                                                                 \n",
      "=================================================================\n",
      "Total params: 147,463\n",
      "Trainable params: 146,647\n",
      "Non-trainable params: 816\n",
      "_________________________________________________________________\n"
     ]
    }
   ],
   "source": [
    "x_train = x_train.astype(\"float32\") / 255\n",
    "x_test = x_test.astype(\"float32\") / 255\n",
    "\n",
    "# Make sure images have shape (28, 28, 1)\n",
    "x_train = np.expand_dims(x_train, -1)\n",
    "x_test = np.expand_dims(x_test, -1)\n",
    "\n",
    "y_train = keras.utils.to_categorical(y_train, 7)\n",
    "y_test = keras.utils.to_categorical(y_test, 7)\n",
    "\n",
    "input_size = (28, 28, 1) # The image size of the MNIST\n",
    "patch_size = (2, 2) # Segment 28-by-28 frames into 2-by-2 sized patches, patch contents and positions are embedded\n",
    "n_labels = 7 # MNIST labels\n",
    "\n",
    "# Dropout parameters\n",
    "mlp_drop_rate = 0.01 # Droupout after each MLP layer\n",
    "attn_drop_rate = 0.01 # Dropout after Swin-Attention\n",
    "proj_drop_rate = 0.01 # Dropout at the end of each Swin-Attention block, i.e., after linear projections\n",
    "drop_path_rate = 0.01 # Drop-path within skip-connections\n",
    "\n",
    "# Self-attention parameters\n",
    "# (Fixed for all the blocks in this configuration, but can vary per block in larger architectures)\n",
    "num_heads = 8 # Number of attention heads\n",
    "embed_dim = 64 # Number of embedded dimensions\n",
    "num_mlp = 256 # Number of MLP nodes\n",
    "qkv_bias = True # Convert embedded patches to query, key, and values with a learnable additive value\n",
    "qk_scale = None # None: Re-scale query based on embed dimensions per attention head # Float for user specified scaling factor\n",
    "\n",
    "# Shift-window parameters\n",
    "window_size = 2 # Size of attention window (height = width)\n",
    "shift_size = window_size // 2 # Size of shifting (shift_size < window_size)\n",
    "\n",
    "num_patch_x = input_size[0]//patch_size[0]\n",
    "num_patch_y = input_size[1]//patch_size[1]\n",
    "\n",
    "# The input section\n",
    "IN = Input(input_size)\n",
    "X = IN\n",
    "\n",
    "# Extract patches from the input tensor\n",
    "X = transformer_layers.patch_extract(patch_size)(X)\n",
    "\n",
    "# Embed patches to tokens\n",
    "X = transformer_layers.patch_embedding(num_patch_x * num_patch_y, embed_dim)(X)\n",
    "\n",
    "# -------------------- Swin transformers -------------------- #\n",
    "# Stage 1: window-attention + Swin-attention + patch-merging\n",
    "\n",
    "for i in range(2):\n",
    "\n",
    "    if i % 2 == 0:\n",
    "        shift_size_temp = 0\n",
    "    else:\n",
    "        shift_size_temp = shift_size\n",
    "\n",
    "    X = swin_layers.SwinTransformerBlock(dim=embed_dim, num_patch=(num_patch_x, num_patch_y), num_heads=num_heads,\n",
    "                                         window_size=window_size, shift_size=shift_size_temp, num_mlp=num_mlp,\n",
    "                                         qkv_bias=qkv_bias, qk_scale=qk_scale,\n",
    "                                         mlp_drop=mlp_drop_rate, attn_drop=attn_drop_rate, proj_drop=proj_drop_rate,\n",
    "                                         drop_path_prob=drop_path_rate,\n",
    "                                         name='swin_block{}'.format(i))(X)\n",
    "# Patch-merging\n",
    "#    Pooling patch sequences. Half the number of patches (skip every two patches) and double the embedded dimensions\n",
    "X = transformer_layers.patch_merging((num_patch_x, num_patch_y), embed_dim=embed_dim, name='down{}'.format(i))(X)\n",
    "\n",
    "# ----------------------------------------------------------- #\n",
    "\n",
    "# Convert embedded tokens (2D) to vectors (1D)\n",
    "X = GlobalAveragePooling1D()(X)\n",
    "\n",
    "# The output section\n",
    "OUT = Dense(n_labels, activation='softmax')(X)\n",
    "\n",
    "model = keras.models.Model(inputs=[IN,], outputs=[OUT,])\n",
    "model.summary()\n",
    "\n",
    "opt = keras.optimizers.Adam(learning_rate=1e-4, clipvalue=0.5)\n",
    "model.compile(loss=keras.losses.categorical_crossentropy, optimizer=opt, metrics=['accuracy',])\n"
   ]
  },
  {
   "cell_type": "code",
   "execution_count": 19,
   "id": "9b53cc69",
   "metadata": {},
   "outputs": [
    {
     "name": "stdout",
     "output_type": "stream",
     "text": [
      "Epoch 1/5\n",
      "148/148 [==============================] - 7s 30ms/step - loss: 1.8087 - accuracy: 0.4069 - val_loss: 1.7741 - val_accuracy: 0.4543\n",
      "Epoch 2/5\n",
      "148/148 [==============================] - 4s 26ms/step - loss: 1.5497 - accuracy: 0.5315 - val_loss: 1.6445 - val_accuracy: 0.5167\n",
      "Epoch 3/5\n",
      "148/148 [==============================] - 4s 26ms/step - loss: 1.3412 - accuracy: 0.6345 - val_loss: 1.4356 - val_accuracy: 0.6133\n",
      "Epoch 4/5\n",
      "148/148 [==============================] - 4s 26ms/step - loss: 1.1397 - accuracy: 0.7347 - val_loss: 1.2285 - val_accuracy: 0.7243\n",
      "Epoch 5/5\n",
      "148/148 [==============================] - 4s 26ms/step - loss: 0.7339 - accuracy: 0.8364 - val_loss: 0.7295 - val_accuracy: 0.8543\n"
     ]
    }
   ],
   "source": [
    "history = model.fit(x_train, y_train, batch_size=32, epochs=5, validation_split=0.1)"
   ]
  },
  {
   "cell_type": "code",
   "execution_count": 21,
   "id": "a56fccb3",
   "metadata": {},
   "outputs": [
    {
     "name": "stdout",
     "output_type": "stream",
     "text": [
      "30/30 [==============================] - 0s 9ms/step - loss: 0.7155 - accuracy: 0.8621\n"
     ]
    }
   ],
   "source": [
    "loss,acc=model.evaluate(x_test,y_test)"
   ]
  },
  {
   "cell_type": "code",
   "execution_count": 23,
   "id": "2ece627d",
   "metadata": {},
   "outputs": [
    {
     "data": {
      "image/png": "[encoded data removed]",
      "text/plain": [
       "<Figure size 432x288 with 1 Axes>"
      ]
     },
     "metadata": {
      "needs_background": "light"
     },
     "output_type": "display_data"
    },
    {
     "data": {
      "image/png": "[encoded data removed]",
      "text/plain": [
       "<Figure size 432x288 with 1 Axes>"
      ]
     },
     "metadata": {
      "needs_background": "light"
     },
     "output_type": "display_data"
    }
   ],
   "source": [
    "plt.plot(history.history['accuracy'])\n",
    "plt.plot(history.history['val_accuracy'])\n",
    "plt.title('Model accuracy')\n",
    "plt.ylabel('Accuracy')\n",
    "plt.xlabel('Epoch')\n",
    "plt.legend(['Train', 'Test'], loc='upper left')\n",
    "plt.show()\n",
    "\n",
    "# 绘制训练 & 验证的损失值\n",
    "plt.plot(history.history['loss'])\n",
    "plt.plot(history.history['val_loss'])\n",
    "plt.title('Model loss')\n",
    "plt.ylabel('Loss')\n",
    "plt.xlabel('Epoch')\n",
    "plt.legend(['Train', 'Test'], loc='upper left')\n",
    "plt.show()"
   ]
  },
  {
   "cell_type": "code",
   "execution_count": null,
   "id": "61d61649",
   "metadata": {},
   "outputs": [],
   "source": []
  }
 ],
 "metadata": {
  "kernelspec": {
   "display_name": "Python 3 (ipykernel)",
   "language": "python",
   "name": "python3"
  },
  "language_info": {
   "codemirror_mode": {
    "name": "ipython",
    "version": 3
   },
   "file_extension": ".py",
   "mimetype": "text/x-python",
   "name": "python",
   "nbconvert_exporter": "python",
   "pygments_lexer": "ipython3",
   "version": "3.9.7"
  }
 },
 "nbformat": 4,
 "nbformat_minor": 5
}
